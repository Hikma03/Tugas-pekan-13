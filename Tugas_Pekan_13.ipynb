{
  "nbformat": 4,
  "nbformat_minor": 0,
  "metadata": {
    "colab": {
      "name": "Tugas Pekan 13",
      "provenance": [],
      "collapsed_sections": [],
      "authorship_tag": "ABX9TyMuSSr2CWNmrTQG0KEpU+6R",
      "include_colab_link": true
    },
    "kernelspec": {
      "name": "python3",
      "display_name": "Python 3"
    },
    "language_info": {
      "name": "python"
    }
  },
  "cells": [
    {
      "cell_type": "markdown",
      "metadata": {
        "id": "view-in-github",
        "colab_type": "text"
      },
      "source": [
        "<a href=\"https://colab.research.google.com/github/Hikma03/Tugas-pekan-13/blob/main/Tugas_Pekan_13.ipynb\" target=\"_parent\"><img src=\"https://colab.research.google.com/assets/colab-badge.svg\" alt=\"Open In Colab\"/></a>"
      ]
    },
    {
      "cell_type": "markdown",
      "source": [
        ""
      ],
      "metadata": {
        "id": "94zd3zzKBx8_"
      }
    },
    {
      "cell_type": "markdown",
      "source": [
        "Nama : Hikma Abdia\n",
        "\n",
        "Nim  : H051211024\n",
        "\n",
        "kelas : Algopro A\n",
        "\n",
        "Tugas : Pekan 13 "
      ],
      "metadata": {
        "id": "aT0l2Tq2hyko"
      }
    },
    {
      "cell_type": "markdown",
      "source": [
        "- Buatlah program untuk menghitung total pembelian N buah barang dengan harga dan \n",
        "jumlah tertentu !"
      ],
      "metadata": {
        "id": "RkzgUc6jhr7g"
      }
    },
    {
      "cell_type": "code",
      "source": [
        "JumlahBrg = int(input('Jumlah Barang : '))\n",
        "for A in range (JumlahBrg) :\n",
        "  print('Barang ke-',A+1)\n",
        "  HargaBrg = int(input('Harga Barang : '))\n",
        "  totalharga=0\n",
        "for B in range(HargaBrg) :\n",
        "  totalharga =0\n",
        "TotalHarga=JumlahBrg*HargaBrg\n",
        "print('Total Pembelian  : ',TotalHarga)"
      ],
      "metadata": {
        "colab": {
          "base_uri": "https://localhost:8080/"
        },
        "id": "ZTdqoXGDhosy",
        "outputId": "e69e46ee-0e8b-46c8-c6e9-b6997a929417"
      },
      "execution_count": 16,
      "outputs": [
        {
          "output_type": "stream",
          "name": "stdout",
          "text": [
            "Jumlah Barang : 3\n",
            "Barang ke- 1\n",
            "Harga Barang : 10000\n",
            "Barang ke- 2\n",
            "Harga Barang : 25000\n",
            "Barang ke- 3\n",
            "Harga Barang : 20000\n",
            "Total Pembelian  :  60000\n"
          ]
        }
      ]
    },
    {
      "cell_type": "markdown",
      "source": [
        "- Buatlah program untuk menghitung banyaknya bilangan genap ataupun bilangan ganjil dari N buah bilangan yang diinput secara acak!"
      ],
      "metadata": {
        "id": "BKVeY34hwfqa"
      }
    },
    {
      "cell_type": "code",
      "source": [
        "nilaiawal = int(input('Input Nilai Awal : '))\n",
        "nilaiakhir = int(input('Input Nilai Akhir : '))\n",
        "for A in range(nilaiawal,nilaiakhir+1):\n",
        "  if A %2 == 0:\n",
        "    print (A, 'adalah jenis Bilangan Genap')\n",
        "  else :\n",
        "    print (A, 'adalah jenis Bilangan Ganji')"
      ],
      "metadata": {
        "colab": {
          "base_uri": "https://localhost:8080/"
        },
        "id": "abLWX_wdwdWp",
        "outputId": "a7c620d5-69e5-47c9-fc54-2032bb8e3652"
      },
      "execution_count": 7,
      "outputs": [
        {
          "output_type": "stream",
          "name": "stdout",
          "text": [
            "Input Nilai Awal : 3\n",
            "Input Nilai Akhir : 7\n",
            "3 adalah jenis Bilangan Ganji\n",
            "4 adalah jenis Bilangan Genap\n",
            "5 adalah jenis Bilangan Ganji\n",
            "6 adalah jenis Bilangan Genap\n",
            "7 adalah jenis Bilangan Ganji\n"
          ]
        }
      ]
    },
    {
      "cell_type": "markdown",
      "source": [
        "- Buatlah program untuk menampilkan bilangan kelipatan 3 diantara bilangan tertentu!\n"
      ],
      "metadata": {
        "id": "Qx7aNt6S9i7p"
      }
    },
    {
      "cell_type": "code",
      "source": [
        "s = ''\n",
        "i = 0\n",
        "while (i<22):\n",
        "  s += str(i)+' '\n",
        "  i += 3\n",
        "print(s)"
      ],
      "metadata": {
        "colab": {
          "base_uri": "https://localhost:8080/"
        },
        "id": "zLCL47OPJ_wH",
        "outputId": "4aac75fc-19ec-4a03-c7b8-697122a5e8cb"
      },
      "execution_count": 1,
      "outputs": [
        {
          "output_type": "stream",
          "name": "stdout",
          "text": [
            "0 3 6 9 12 15 18 21 \n"
          ]
        }
      ]
    },
    {
      "cell_type": "markdown",
      "source": [
        "- Buatlah program untuk menampilkan bentuk bilangan seperti berikut ini:\n",
        "Bilangan : <input suatu bilangan (misal:5)>\n",
        "1\n",
        "\n",
        "12\n",
        "\n",
        "123\n",
        "\n",
        "1234\n",
        "\n",
        "12345\n"
      ],
      "metadata": {
        "id": "y0penDn03yHQ"
      }
    },
    {
      "cell_type": "code",
      "source": [
        "s = ''\n",
        "for i in range (1,6) :\n",
        "  s += str(i)+''\n",
        "  print (s)"
      ],
      "metadata": {
        "colab": {
          "base_uri": "https://localhost:8080/"
        },
        "id": "EUNul-m-3uPs",
        "outputId": "cfbad618-fb1c-4a1b-e8f6-1dd4e4e11b5c"
      },
      "execution_count": 3,
      "outputs": [
        {
          "output_type": "stream",
          "name": "stdout",
          "text": [
            "1\n",
            "12\n",
            "123\n",
            "1234\n",
            "12345\n"
          ]
        }
      ]
    },
    {
      "cell_type": "markdown",
      "source": [
        "- Buatlah program untuk menghitung dan menampilkan bentuk berikut ini:\n",
        "\n",
        "No. Nama Mhs N.Tugas N.Kuis N.UTS N.UAS NilaiAkhir\n",
        "\n",
        "1 \n",
        "\n",
        "2\n",
        "\n",
        "..\n",
        "\n",
        "N\n"
      ],
      "metadata": {
        "id": "0IUhI7R372f-"
      }
    },
    {
      "cell_type": "code",
      "source": [
        "NamaMahasiswa =input(\"Masukkan Nama : \")\n",
        "NilaiTugas=float(input(\"Masukkan Nilai Tugas : \"))\n",
        "NilaiKuis=float(input(\"Masukkan Nilai Kuis : \"))\n",
        "NilaiUTS=float(input(\"Masukkan Nilai UTS : \"))\n",
        "NilaiUAS=float(input(\"Masukkan Nilai UAS : \"))\n",
        "\n",
        "NilaiAkhir=(NilaiTugas*0.1) + (NilaiKuis*0.1) + (NilaiUTS*0.4) + (NilaiUAS*0.4)\n",
        "\n",
        "print(\"=======HASIL PERHITUNGAN=======\")\n",
        "\n",
        "print(\"Nama Mhs :\",NamaMahasiswa)\n",
        "print(\"N.Tugas :\",NilaiTugas)\n",
        "print(\"N.Kuis :\",NilaiKuis)\n",
        "print(\"N.UTS :\",NilaiUTS)\n",
        "print(\"N.UAS :\",NilaiUAS)\n",
        "print(\"N.Akhir :\",NilaiAkhir)"
      ],
      "metadata": {
        "colab": {
          "base_uri": "https://localhost:8080/"
        },
        "id": "ByHe-6TE71gN",
        "outputId": "7ff5553a-dfbe-4420-eaf1-9c75b0c2a6d5"
      },
      "execution_count": 13,
      "outputs": [
        {
          "output_type": "stream",
          "name": "stdout",
          "text": [
            "Masukkan Nama : HIKMA ABDIA\n",
            "Masukkan Nilai Tugas : 89\n",
            "Masukkan Nilai Kuis : 91\n",
            "Masukkan Nilai UTS : 90\n",
            "Masukkan Nilai UAS : 90\n",
            "=======HASIL PERHITUNGAN=======\n",
            "Nama Mhs : HIKMA ABDIA\n",
            "N.Tugas : 89.0\n",
            "N.Kuis : 91.0\n",
            "N.UTS : 90.0\n",
            "N.UAS : 90.0\n",
            "N.Akhir : 90.0\n"
          ]
        }
      ]
    },
    {
      "cell_type": "markdown",
      "source": [
        "- Buatlah program untuk menghitung penjumlahan 2 buah matriks!"
      ],
      "metadata": {
        "id": "9UMIit6SLMjR"
      }
    },
    {
      "cell_type": "code",
      "source": [
        "mat1 = [\n",
        "        [5, 0],\n",
        "        [2, 6],\n",
        "]\n",
        "\n",
        "mat2 = [\n",
        "        [1, 0],\n",
        "        [4, 2],\n",
        "]\n",
        "\n",
        "mat3= []\n",
        "\n",
        "for A in range(0, len(mat1)):\n",
        "    for B in range(0, len(mat1[0])):\n",
        "        print (mat1[A][B] + mat2[A][B], end=' '),\n",
        "    print('')"
      ],
      "metadata": {
        "colab": {
          "base_uri": "https://localhost:8080/"
        },
        "id": "R3fECih-LM-D",
        "outputId": "94e0a671-f4b3-45b2-b894-7163e39d57d5"
      },
      "execution_count": 1,
      "outputs": [
        {
          "output_type": "stream",
          "name": "stdout",
          "text": [
            "6 0 \n",
            "6 8 \n"
          ]
        }
      ]
    }
  ]
}